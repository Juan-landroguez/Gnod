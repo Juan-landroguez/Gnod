{
 "cells": [
  {
   "cell_type": "code",
   "execution_count": 1,
   "id": "bb229c75",
   "metadata": {},
   "outputs": [],
   "source": [
    "import pandas as pd\n",
    "import numpy as np\n",
    "\n",
    "import spotipy\n",
    "import requests\n",
    "from spotipy.oauth2 import SpotifyClientCredentials\n",
    "from sklearn.cluster import KMeans\n",
    "from sklearn.preprocessing import StandardScaler\n",
    "import pickle\n",
    "import time\n",
    "import random"
   ]
  },
  {
   "cell_type": "code",
   "execution_count": 2,
   "id": "6e9d79db",
   "metadata": {},
   "outputs": [],
   "source": [
    "#Load hot songs and playlists"
   ]
  },
  {
   "cell_type": "code",
   "execution_count": 3,
   "id": "0453cfb6",
   "metadata": {},
   "outputs": [],
   "source": [
    "spotify_data= pd.read_csv('spotify_data.csv')\n",
    "hot_songs= pd.read_csv('hot_songs.csv')"
   ]
  },
  {
   "cell_type": "code",
   "execution_count": 4,
   "id": "dd8bece8",
   "metadata": {},
   "outputs": [],
   "source": [
    "# Scaler and Model"
   ]
  },
  {
   "cell_type": "code",
   "execution_count": 5,
   "id": "36fcc755",
   "metadata": {},
   "outputs": [],
   "source": [
    "with open('modelo_kmeans.pkl', 'rb') as file:\n",
    "    kmeans = pickle.load(file)\n"
   ]
  },
  {
   "cell_type": "code",
   "execution_count": 6,
   "id": "430f5f72",
   "metadata": {},
   "outputs": [],
   "source": [
    "with open('scaler.pkl', 'rb') as file:\n",
    "    scaler = pickle.load(file)"
   ]
  },
  {
   "cell_type": "code",
   "execution_count": 7,
   "id": "b2f43678",
   "metadata": {},
   "outputs": [],
   "source": [
    "# Secrets..."
   ]
  },
  {
   "cell_type": "code",
   "execution_count": 8,
   "id": "c0cadef3",
   "metadata": {},
   "outputs": [],
   "source": [
    "secrets_file = open(\"secrets.txt\",\"r\")\n",
    "string = secrets_file.read()"
   ]
  },
  {
   "cell_type": "code",
   "execution_count": 9,
   "id": "6e018079",
   "metadata": {},
   "outputs": [],
   "source": [
    "secrets_dict={}\n",
    "for line in string.split('\\n'):\n",
    "    if len(line) > 0:\n",
    "        secrets_dict[line.split(':')[0]]=line.split(':')[1].strip()"
   ]
  },
  {
   "cell_type": "code",
   "execution_count": 10,
   "id": "3e3b87e1",
   "metadata": {},
   "outputs": [],
   "source": [
    "#Spotify conexion"
   ]
  },
  {
   "cell_type": "code",
   "execution_count": 11,
   "id": "4fab641e",
   "metadata": {},
   "outputs": [],
   "source": [
    "sp = spotipy.Spotify(auth_manager=SpotifyClientCredentials(client_id=secrets_dict['CID'],\n",
    "                                                           client_secret=secrets_dict['Csecret']))"
   ]
  },
  {
   "cell_type": "code",
   "execution_count": 12,
   "id": "e45b6ed3",
   "metadata": {},
   "outputs": [],
   "source": [
    "#input"
   ]
  },
  {
   "cell_type": "code",
   "execution_count": 13,
   "id": "a0ccf094",
   "metadata": {},
   "outputs": [
    {
     "name": "stdout",
     "output_type": "stream",
     "text": [
      "Enter your favorite songs\n",
      "> macarena\n"
     ]
    }
   ],
   "source": [
    "input_song = [input('Enter your favorite songs\\n> ').strip()]"
   ]
  },
  {
   "cell_type": "code",
   "execution_count": 14,
   "id": "d3d8b757",
   "metadata": {},
   "outputs": [],
   "source": [
    "# Recommendator"
   ]
  },
  {
   "cell_type": "code",
   "execution_count": 16,
   "id": "5dd5cf28",
   "metadata": {},
   "outputs": [
    {
     "name": "stderr",
     "output_type": "stream",
     "text": [
      "/var/folders/0r/l856hq9x61zf5p8g8vxjs_dh0000gn/T/ipykernel_2538/483904273.py:22: FutureWarning: The frame.append method is deprecated and will be removed from pandas in a future version. Use pandas.concat instead.\n",
      "  track_feats = track_feats.append((sp.audio_features(b)),ignore_index=True)\n",
      "/Users/juan/opt/anaconda3/lib/python3.9/site-packages/sklearn/base.py:443: UserWarning: X has feature names, but KMeans was fitted without feature names\n",
      "  warnings.warn(\n"
     ]
    },
    {
     "data": {
      "text/html": [
       "<div>\n",
       "<style scoped>\n",
       "    .dataframe tbody tr th:only-of-type {\n",
       "        vertical-align: middle;\n",
       "    }\n",
       "\n",
       "    .dataframe tbody tr th {\n",
       "        vertical-align: top;\n",
       "    }\n",
       "\n",
       "    .dataframe thead th {\n",
       "        text-align: right;\n",
       "    }\n",
       "</style>\n",
       "<table border=\"1\" class=\"dataframe\">\n",
       "  <thead>\n",
       "    <tr style=\"text-align: right;\">\n",
       "      <th></th>\n",
       "      <th>title</th>\n",
       "      <th>artist</th>\n",
       "    </tr>\n",
       "  </thead>\n",
       "  <tbody>\n",
       "    <tr>\n",
       "      <th>11292</th>\n",
       "      <td>Heaven In My Hands - 7\" Version</td>\n",
       "      <td>Level 42</td>\n",
       "    </tr>\n",
       "  </tbody>\n",
       "</table>\n",
       "</div>"
      ],
      "text/plain": [
       "                                 title    artist\n",
       "11292  Heaven In My Hands - 7\" Version  Level 42"
      ]
     },
     "metadata": {},
     "output_type": "display_data"
    }
   ],
   "source": [
    "import random\n",
    "\n",
    "song_lst = hot_songs['title'].tolist()\n",
    "favorites = hot_songs[hot_songs.title.isin(input_song)]\n",
    "fav_lst = favorites.title.tolist()\n",
    "track_feats = pd.DataFrame()\n",
    "# print(fav_lst)\n",
    "# print(favorites)\n",
    "\n",
    "\n",
    "if not not fav_lst:\n",
    "#     print(not not fav_lst)\n",
    "    print(random.choice(song_lst))\n",
    "if not fav_lst:\n",
    "#         track_feats = pd.DataFrame()\n",
    "    for a in input_song:\n",
    "        track = sp.search(q=a)\n",
    "        track_uri = [track['tracks']['items'][0]['uri']]\n",
    "    #     print(v)\n",
    "    #     print(track_uri)\n",
    "    for b in track_uri:\n",
    "        track_feats = track_feats.append((sp.audio_features(b)),ignore_index=True)\n",
    "        track_feats = track_feats.select_dtypes(include='number')\n",
    "        track_feats = pd.DataFrame(scaler.transform(track_feats), columns=track_feats.columns)\n",
    "        track_cluster = kmeans.predict(track_feats).tolist()\n",
    "    #     display(track_feats)\n",
    "    #     display(track_cluster)\n",
    "    for c in track_cluster:\n",
    "        rec = spotify_data[(spotify_data['cluster'] == c)].sample()\n",
    "        display(rec[['title','artist']])\n"
   ]
  },
  {
   "cell_type": "code",
   "execution_count": null,
   "id": "163c7a8f",
   "metadata": {},
   "outputs": [],
   "source": [
    "import random\n",
    "\n",
    "song_is_hot = hot_songs['title'].tolist()\n",
    "favorites = hot_songs[hot_songs.title.isin(input_song)]\n",
    "fav_lst = favorites.title.tolist()\n",
    "track_feats = pd.DataFrame()\n",
    "\n",
    "if not not fav_lst:\n",
    "#     print(not not fav_lst)\n",
    "    print(random.choice(song_is_hot))\n",
    "if not fav_lst:\n",
    "#         track_feats = pd.DataFrame()\n",
    "    for a in input_song:\n",
    "        track = sp.search(q=a)\n",
    "        track_uri = [track['tracks']['items'][0]['uri']]\n",
    "    #     print(v)\n",
    "    #     print(track_uri)\n",
    "    for b in track_uri:\n",
    "        track_feats = track_feats.append((sp.audio_features(b)),ignore_index=True)\n",
    "        track_feats = track_feats.select_dtypes(include='number')\n",
    "        track_feats = pd.DataFrame(scaler.transform(track_feats), columns=track_feats.columns)\n",
    "        track_cluster = kmeans.predict(track_feats).tolist()\n",
    "    #     display(track_feats)\n",
    "    #     display(track_cluster)\n",
    "    for c in track_cluster:\n",
    "        rec = spotify_data[(spotify_data['cluster'] == c)].sample()\n",
    "        display(rec[['title','artist']])\n"
   ]
  }
 ],
 "metadata": {
  "kernelspec": {
   "display_name": "Python 3 (ipykernel)",
   "language": "python",
   "name": "python3"
  },
  "language_info": {
   "codemirror_mode": {
    "name": "ipython",
    "version": 3
   },
   "file_extension": ".py",
   "mimetype": "text/x-python",
   "name": "python",
   "nbconvert_exporter": "python",
   "pygments_lexer": "ipython3",
   "version": "3.9.13"
  }
 },
 "nbformat": 4,
 "nbformat_minor": 5
}
